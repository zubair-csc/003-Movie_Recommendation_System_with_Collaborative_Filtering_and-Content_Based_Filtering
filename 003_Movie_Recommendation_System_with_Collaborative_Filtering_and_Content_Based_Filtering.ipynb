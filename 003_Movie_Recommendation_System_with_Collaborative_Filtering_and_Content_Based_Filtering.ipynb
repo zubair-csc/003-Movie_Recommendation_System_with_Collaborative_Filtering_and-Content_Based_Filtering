{
  "nbformat": 4,
  "nbformat_minor": 0,
  "metadata": {
    "colab": {
      "provenance": []
    },
    "kernelspec": {
      "name": "python3",
      "display_name": "Python 3"
    },
    "language_info": {
      "name": "python"
    }
  },
  "cells": [
    {
      "cell_type": "code",
      "source": [
        "!pip uninstall -y numpy scikit-surprise\n",
        "!pip install numpy==1.23.5\n",
        "!pip install scikit-surprise --no-binary :all:"
      ],
      "metadata": {
        "id": "LgLHdPcuIuuT"
      },
      "execution_count": null,
      "outputs": []
    },
    {
      "cell_type": "code",
      "execution_count": 2,
      "metadata": {
        "colab": {
          "base_uri": "https://localhost:8080/"
        },
        "id": "-4W6TYCHD4eG",
        "outputId": "1679d8c9-8a24-4e9b-fde2-70c5dfba071a"
      },
      "outputs": [
        {
          "output_type": "stream",
          "name": "stdout",
          "text": [
            "Traceback (most recent call last):\n",
            "  File \"/usr/local/bin/pip3\", line 4, in <module>\n",
            "    from pip._internal.cli.main import main\n",
            "  File \"/usr/local/lib/python3.11/dist-packages/pip/_internal/cli/main.py\", line 11, in <module>\n",
            "    from pip._internal.cli.autocompletion import autocomplete\n",
            "  File \"/usr/local/lib/python3.11/dist-packages/pip/_internal/cli/autocompletion.py\", line 10, in <module>\n",
            "    from pip._internal.cli.main_parser import create_main_parser\n",
            "  File \"/usr/local/lib/python3.11/dist-packages/pip/_internal/cli/main_parser.py\", line 9, in <module>\n",
            "    from pip._internal.build_env import get_runnable_pip\n",
            "  File \"/usr/local/lib/python3.11/dist-packages/pip/_internal/build_env.py\", line 19, in <module>\n",
            "^C\n"
          ]
        }
      ],
      "source": [
        "!pip install scikit-surprise --quiet surprise"
      ]
    },
    {
      "cell_type": "code",
      "source": [
        "# ✅ Re-run these after restarting runtime\n",
        "import pandas as pd\n",
        "import numpy as np\n",
        "from sklearn.feature_extraction.text import TfidfVectorizer\n",
        "from sklearn.metrics.pairwise import linear_kernel\n",
        "from surprise import Dataset, Reader, SVD\n",
        "from surprise.model_selection import cross_validate"
      ],
      "metadata": {
        "id": "PjoNJcYvEKXw"
      },
      "execution_count": 1,
      "outputs": []
    },
    {
      "cell_type": "code",
      "source": [
        "!wget -q --show-progress https://files.grouplens.org/datasets/movielens/ml-latest-small.zip\n",
        "!unzip -o ml-latest-small.zip"
      ],
      "metadata": {
        "colab": {
          "base_uri": "https://localhost:8080/"
        },
        "id": "F4e0RxvSF2xc",
        "outputId": "155b43c8-454e-47ba-c677-e06118e243d4"
      },
      "execution_count": 2,
      "outputs": [
        {
          "output_type": "stream",
          "name": "stdout",
          "text": [
            "ml-latest-small.zip 100%[===================>] 955.28K  4.29MB/s    in 0.2s    \n",
            "Archive:  ml-latest-small.zip\n",
            "  inflating: ml-latest-small/links.csv  \n",
            "  inflating: ml-latest-small/tags.csv  \n",
            "  inflating: ml-latest-small/ratings.csv  \n",
            "  inflating: ml-latest-small/README.txt  \n",
            "  inflating: ml-latest-small/movies.csv  \n"
          ]
        }
      ]
    },
    {
      "cell_type": "code",
      "source": [
        "movies = pd.read_csv(\"ml-latest-small/movies.csv\")\n",
        "ratings = pd.read_csv(\"ml-latest-small/ratings.csv\")"
      ],
      "metadata": {
        "id": "qWXT6zT2HI9j"
      },
      "execution_count": 3,
      "outputs": []
    },
    {
      "cell_type": "code",
      "source": [
        "print(f\" Movies Shape: {movies.shape}\")\n",
        "print(f\" Ratings Shape: {ratings.shape}\")"
      ],
      "metadata": {
        "colab": {
          "base_uri": "https://localhost:8080/"
        },
        "id": "_mbm3657HOfG",
        "outputId": "a7537236-538c-4bac-cc0b-440f48dd8a49"
      },
      "execution_count": 4,
      "outputs": [
        {
          "output_type": "stream",
          "name": "stdout",
          "text": [
            " Movies Shape: (9742, 3)\n",
            " Ratings Shape: (100836, 4)\n"
          ]
        }
      ]
    },
    {
      "cell_type": "code",
      "source": [
        "# Content-Based Filtering\n",
        "# Merge genres into overview\n",
        "movies['overview'] = movies['title'] + \" \" + movies['genres'].fillna('')"
      ],
      "metadata": {
        "id": "EWaKEP9KHUCA"
      },
      "execution_count": 5,
      "outputs": []
    },
    {
      "cell_type": "code",
      "source": [
        "# TF-IDF Vectorizer\n",
        "tfidf = TfidfVectorizer(stop_words='english')\n",
        "tfidf_matrix = tfidf.fit_transform(movies['overview'])"
      ],
      "metadata": {
        "id": "LMGN5CihHZVm"
      },
      "execution_count": 6,
      "outputs": []
    },
    {
      "cell_type": "code",
      "source": [
        "# Cosine Similarity Matrix\n",
        "cosine_sim = linear_kernel(tfidf_matrix, tfidf_matrix)"
      ],
      "metadata": {
        "id": "MGCBsf3sHcDM"
      },
      "execution_count": 7,
      "outputs": []
    },
    {
      "cell_type": "code",
      "source": [
        "# Reverse mapping\n",
        "indices = pd.Series(movies.index, index=movies['title']).drop_duplicates()"
      ],
      "metadata": {
        "id": "u4HndFn9Hrn3"
      },
      "execution_count": 8,
      "outputs": []
    },
    {
      "cell_type": "code",
      "source": [
        "# Content-Based Recommendation Function\n",
        "def content_recommend(title, n=5):\n",
        "    if title not in indices:\n",
        "        return f\"❌ Movie '{title}' not found in dataset.\"\n",
        "    idx = indices[title]\n",
        "    sim_scores = list(enumerate(cosine_sim[idx]))\n",
        "    sim_scores = sorted(sim_scores, key=lambda x: x[1], reverse=True)[1:n+1]\n",
        "    movie_indices = [i[0] for i in sim_scores]\n",
        "    return movies[['title', 'genres']].iloc[movie_indices]"
      ],
      "metadata": {
        "id": "JjGd2SbvHuWl"
      },
      "execution_count": 9,
      "outputs": []
    },
    {
      "cell_type": "code",
      "source": [
        "# Example\n",
        "print(\"Content-Based Recommendations for 'Toy Story (1995)':\")\n",
        "print(content_recommend(\"Toy Story (1995)\"))"
      ],
      "metadata": {
        "colab": {
          "base_uri": "https://localhost:8080/"
        },
        "id": "QKLaFPRVHyV_",
        "outputId": "6ad42d18-7751-4470-aef1-0721f2907136"
      },
      "execution_count": 10,
      "outputs": [
        {
          "output_type": "stream",
          "name": "stdout",
          "text": [
            "Content-Based Recommendations for 'Toy Story (1995)':\n",
            "                                      title  \\\n",
            "2355                     Toy Story 2 (1999)   \n",
            "7355                     Toy Story 3 (2010)   \n",
            "3595                        Toy, The (1982)   \n",
            "2539  We're Back! A Dinosaur's Story (1993)   \n",
            "26                      Now and Then (1995)   \n",
            "\n",
            "                                                genres  \n",
            "2355       Adventure|Animation|Children|Comedy|Fantasy  \n",
            "7355  Adventure|Animation|Children|Comedy|Fantasy|IMAX  \n",
            "3595                                            Comedy  \n",
            "2539              Adventure|Animation|Children|Fantasy  \n",
            "26                                      Children|Drama  \n"
          ]
        }
      ]
    },
    {
      "cell_type": "code",
      "source": [
        "# Collaborative Filtering (SVD)\n",
        "reader = Reader(rating_scale=(0.5, 5.0))\n",
        "data = Dataset.load_from_df(ratings[['userId', 'movieId', 'rating']], reader)\n",
        "\n",
        "model = SVD()\n",
        "cross_validate(model, data, measures=['RMSE', 'MAE'], cv=3, verbose=True)\n"
      ],
      "metadata": {
        "colab": {
          "base_uri": "https://localhost:8080/"
        },
        "id": "0BwS1c67H3nc",
        "outputId": "857d0e92-3663-4b50-81e5-bcb369b56fe0"
      },
      "execution_count": 11,
      "outputs": [
        {
          "output_type": "stream",
          "name": "stdout",
          "text": [
            "Evaluating RMSE, MAE of algorithm SVD on 3 split(s).\n",
            "\n",
            "                  Fold 1  Fold 2  Fold 3  Mean    Std     \n",
            "RMSE (testset)    0.8824  0.8790  0.8835  0.8816  0.0019  \n",
            "MAE (testset)     0.6792  0.6763  0.6794  0.6783  0.0014  \n",
            "Fit time          1.19    1.23    1.23    1.22    0.02    \n",
            "Test time         0.26    0.18    0.32    0.26    0.06    \n"
          ]
        },
        {
          "output_type": "execute_result",
          "data": {
            "text/plain": [
              "{'test_rmse': array([0.88235438, 0.87896238, 0.88350459]),\n",
              " 'test_mae': array([0.6792032 , 0.67625394, 0.67937434]),\n",
              " 'fit_time': (1.1942799091339111, 1.227741003036499, 1.2337591648101807),\n",
              " 'test_time': (0.2633678913116455, 0.18350553512573242, 0.3222627639770508)}"
            ]
          },
          "metadata": {},
          "execution_count": 11
        }
      ]
    },
    {
      "cell_type": "code",
      "source": [
        "# Predict function\n",
        "def predict_rating(userId, movieId):\n",
        "    return model.predict(userId, movieId).est"
      ],
      "metadata": {
        "id": "LZ5TGSazJkEy"
      },
      "execution_count": 12,
      "outputs": []
    },
    {
      "cell_type": "code",
      "source": [
        "# Recommend top N movies for a user\n",
        "def collaborative_recommend(user_id, n=5):\n",
        "    rated = ratings[ratings['userId'] == user_id]['movieId'].tolist()\n",
        "    all_movies = ratings['movieId'].unique()\n",
        "    not_rated = [m for m in all_movies if m not in rated]\n",
        "    predictions = [(mid, predict_rating(user_id, mid)) for mid in not_rated]\n",
        "    predictions.sort(key=lambda x: x[1], reverse=True)\n",
        "    top_ids = [pred[0] for pred in predictions[:n]]\n",
        "    return movies[movies['movieId'].isin(top_ids)][['title', 'genres']]"
      ],
      "metadata": {
        "id": "HWqggQIaJnFz"
      },
      "execution_count": 13,
      "outputs": []
    },
    {
      "cell_type": "code",
      "source": [
        "# Example\n",
        "print(\"\\n Collaborative Recommendations for User 1:\")\n",
        "print(collaborative_recommend(1))"
      ],
      "metadata": {
        "colab": {
          "base_uri": "https://localhost:8080/"
        },
        "id": "1IBxGJh4Jqc9",
        "outputId": "7bf9f157-74a1-40f7-edfc-68a2e05986e0"
      },
      "execution_count": 14,
      "outputs": [
        {
          "output_type": "stream",
          "name": "stdout",
          "text": [
            "\n",
            " Collaborative Recommendations for User 1:\n",
            "                                 title                      genres\n",
            "277   Shawshank Redemption, The (1994)                 Crime|Drama\n",
            "686                 Rear Window (1954)            Mystery|Thriller\n",
            "692            Some Like It Hot (1959)                Comedy|Crime\n",
            "711                   Notorious (1946)  Film-Noir|Romance|Thriller\n",
            "8466                   Whiplash (2014)                       Drama\n"
          ]
        }
      ]
    }
  ]
}